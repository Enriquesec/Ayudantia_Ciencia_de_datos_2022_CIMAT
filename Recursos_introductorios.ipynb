{
  "nbformat": 4,
  "nbformat_minor": 0,
  "metadata": {
    "colab": {
      "name": "Recursos_introductorios.ipynb",
      "provenance": [],
      "toc_visible": true,
      "authorship_tag": "ABX9TyMPAFfp9bYt1ElW5fUTOAr5",
      "include_colab_link": true
    },
    "kernelspec": {
      "name": "python3",
      "display_name": "Python 3"
    },
    "language_info": {
      "name": "python"
    }
  },
  "cells": [
    {
      "cell_type": "markdown",
      "metadata": {
        "id": "view-in-github",
        "colab_type": "text"
      },
      "source": [
        "<a href=\"https://colab.research.google.com/github/Enriquesec/Ayudantia_Ciencia_de_datos_2022_CIMAT/blob/main/Recursos_introductorios.ipynb\" target=\"_parent\"><img src=\"https://colab.research.google.com/assets/colab-badge.svg\" alt=\"Open In Colab\"/></a>"
      ]
    },
    {
      "cell_type": "markdown",
      "source": [
        "Material introductorio para el curso de Ciencia de Datos en la maestría de Computo estadístico. "
      ],
      "metadata": {
        "id": "IpgRTficjEwN"
      }
    },
    {
      "cell_type": "markdown",
      "source": [
        "- ¿Cómo utilizar python?\n",
        "  1. De forma local.\n",
        "  2. Google Colabs"
      ],
      "metadata": {
        "id": "s2I1qUvBorKG"
      }
    },
    {
      "cell_type": "markdown",
      "source": [
        "- ¿Cómo instalar python?:\n",
        "Reomiendo utilizar lo siguiente (en gustos se rompen generos):\n",
        " - Anaconda and Pycharm (linux)\n",
        " - Visual Studio Code, Cmder and Python (Windows)."
      ],
      "metadata": {
        "id": "3nozqAj0oqpD"
      }
    },
    {
      "cell_type": "markdown",
      "source": [
        "# Hello World"
      ],
      "metadata": {
        "id": "rbIAAnHw5Mkl"
      }
    },
    {
      "cell_type": "code",
      "source": [
        "print(\"Hello world\")"
      ],
      "metadata": {
        "colab": {
          "base_uri": "https://localhost:8080/"
        },
        "id": "If6e19nX5PSg",
        "outputId": "5d9aeea6-c020-489c-8fdb-45f7b180f9a5"
      },
      "execution_count": 1,
      "outputs": [
        {
          "output_type": "stream",
          "name": "stdout",
          "text": [
            "Hello world\n"
          ]
        }
      ]
    },
    {
      "cell_type": "markdown",
      "source": [
        "# Python como calculadora"
      ],
      "metadata": {
        "id": "ohbVn6rAjDn3"
      }
    },
    {
      "cell_type": "code",
      "source": [
        "1+2 # suma"
      ],
      "metadata": {
        "colab": {
          "base_uri": "https://localhost:8080/"
        },
        "id": "T6TyUzRy5XN9",
        "outputId": "08701689-95b4-4e9f-9893-4de98057d5ab"
      },
      "execution_count": 2,
      "outputs": [
        {
          "output_type": "execute_result",
          "data": {
            "text/plain": [
              "3"
            ]
          },
          "metadata": {},
          "execution_count": 2
        }
      ]
    },
    {
      "cell_type": "code",
      "source": [
        "2*3 # multiplicación"
      ],
      "metadata": {
        "colab": {
          "base_uri": "https://localhost:8080/"
        },
        "id": "0oSQxMaZ5ZXj",
        "outputId": "addcc0c3-0744-4872-8f45-cf5ddf169159"
      },
      "execution_count": 3,
      "outputs": [
        {
          "output_type": "execute_result",
          "data": {
            "text/plain": [
              "6"
            ]
          },
          "metadata": {},
          "execution_count": 3
        }
      ]
    },
    {
      "cell_type": "code",
      "source": [
        "15/2 # división"
      ],
      "metadata": {
        "colab": {
          "base_uri": "https://localhost:8080/"
        },
        "id": "ejNgEgG35bHp",
        "outputId": "30759d2a-8565-4503-bb4d-073632826844"
      },
      "execution_count": 6,
      "outputs": [
        {
          "output_type": "execute_result",
          "data": {
            "text/plain": [
              "7.5"
            ]
          },
          "metadata": {},
          "execution_count": 6
        }
      ]
    },
    {
      "cell_type": "code",
      "source": [
        "15//2 # división entera"
      ],
      "metadata": {
        "colab": {
          "base_uri": "https://localhost:8080/"
        },
        "id": "yPaJrdsD5jSJ",
        "outputId": "71102f1f-1e17-4d8c-dfd9-9965cd3e8ef2"
      },
      "execution_count": 8,
      "outputs": [
        {
          "output_type": "execute_result",
          "data": {
            "text/plain": [
              "7"
            ]
          },
          "metadata": {},
          "execution_count": 8
        }
      ]
    },
    {
      "cell_type": "code",
      "source": [
        "15%2 # modulo"
      ],
      "metadata": {
        "colab": {
          "base_uri": "https://localhost:8080/"
        },
        "id": "I8qTt4Y35101",
        "outputId": "8980e785-e8e4-4ef6-edfc-f66980be35b8"
      },
      "execution_count": 9,
      "outputs": [
        {
          "output_type": "execute_result",
          "data": {
            "text/plain": [
              "1"
            ]
          },
          "metadata": {},
          "execution_count": 9
        }
      ]
    },
    {
      "cell_type": "code",
      "source": [
        "2**3 # exponente"
      ],
      "metadata": {
        "colab": {
          "base_uri": "https://localhost:8080/"
        },
        "id": "CiuAha2a56nv",
        "outputId": "3f49368d-34e6-4436-db1c-07c7ed08b792"
      },
      "execution_count": 11,
      "outputs": [
        {
          "output_type": "execute_result",
          "data": {
            "text/plain": [
              "8"
            ]
          },
          "metadata": {},
          "execution_count": 11
        }
      ]
    },
    {
      "cell_type": "markdown",
      "source": [
        "# Tipos de datos\n",
        "Python es un lenguaje de tipo dinamico, por lo que no es necesario que se declaren el tipo de una variable antes de crearla.\n"
      ],
      "metadata": {
        "id": "4mqEGy7p6H5k"
      }
    },
    {
      "cell_type": "markdown",
      "source": [
        "## Númericos"
      ],
      "metadata": {
        "id": "FuYNt9B96OOw"
      }
    },
    {
      "cell_type": "code",
      "source": [
        "a = 2 # enteros(int)\n",
        "b = 123\n",
        "print(type(a))"
      ],
      "metadata": {
        "colab": {
          "base_uri": "https://localhost:8080/"
        },
        "id": "IwCzfTIS6NMg",
        "outputId": "f31e022f-eb24-47cf-ac78-1220cb708245"
      },
      "execution_count": 14,
      "outputs": [
        {
          "output_type": "stream",
          "name": "stdout",
          "text": [
            "<class 'int'>\n"
          ]
        }
      ]
    },
    {
      "cell_type": "code",
      "source": [
        "c = 2.1 # puntos flotantes (float)\n",
        "d = 239.0\n",
        "print(type(d))"
      ],
      "metadata": {
        "colab": {
          "base_uri": "https://localhost:8080/"
        },
        "id": "VpbEYFE36X_A",
        "outputId": "95c99edb-1a9c-4c4f-8baf-67fbd478c866"
      },
      "execution_count": 13,
      "outputs": [
        {
          "output_type": "stream",
          "name": "stdout",
          "text": [
            "<class 'float'>\n"
          ]
        }
      ]
    },
    {
      "cell_type": "markdown",
      "source": [
        "## String\n",
        "Los strings son inmutables, es decir, no se pueden modificar si ya son creados. "
      ],
      "metadata": {
        "id": "ixhgWjl96mvq"
      }
    },
    {
      "cell_type": "code",
      "source": [
        "e = \"Hello world!\""
      ],
      "metadata": {
        "id": "G6Ak2FVX6iHN"
      },
      "execution_count": 17,
      "outputs": []
    },
    {
      "cell_type": "code",
      "source": [
        "\"'CIMAT' Monterrey\""
      ],
      "metadata": {
        "colab": {
          "base_uri": "https://localhost:8080/",
          "height": 36
        },
        "id": "2p7P0lDk6tWK",
        "outputId": "4b69aaf8-3bcf-4bde-9281-d983cff24a96"
      },
      "execution_count": 15,
      "outputs": [
        {
          "output_type": "execute_result",
          "data": {
            "application/vnd.google.colaboratory.intrinsic+json": {
              "type": "string"
            },
            "text/plain": [
              "\"'CIMAT' Monterrey\""
            ]
          },
          "metadata": {},
          "execution_count": 15
        }
      ]
    },
    {
      "cell_type": "code",
      "source": [
        "e[2] = \"k\""
      ],
      "metadata": {
        "colab": {
          "base_uri": "https://localhost:8080/",
          "height": 214
        },
        "id": "siFPN6No6z3R",
        "outputId": "326ec8f8-35ea-492c-c722-93345c8dfadb"
      },
      "execution_count": 20,
      "outputs": [
        {
          "output_type": "error",
          "ename": "TypeError",
          "evalue": "ignored",
          "traceback": [
            "\u001b[0;31m---------------------------------------------------------------------------\u001b[0m",
            "\u001b[0;31mTypeError\u001b[0m                                 Traceback (most recent call last)",
            "\u001b[0;32m<ipython-input-20-899b0993f245>\u001b[0m in \u001b[0;36m<module>\u001b[0;34m()\u001b[0m\n\u001b[0;32m----> 1\u001b[0;31m \u001b[0me\u001b[0m\u001b[0;34m[\u001b[0m\u001b[0;36m2\u001b[0m\u001b[0;34m]\u001b[0m \u001b[0;34m=\u001b[0m \u001b[0;34m\"k\"\u001b[0m\u001b[0;34m\u001b[0m\u001b[0;34m\u001b[0m\u001b[0m\n\u001b[0m",
            "\u001b[0;31mTypeError\u001b[0m: 'str' object does not support item assignment"
          ]
        }
      ]
    },
    {
      "cell_type": "code",
      "source": [
        "\"CI\" + \"MAT\""
      ],
      "metadata": {
        "colab": {
          "base_uri": "https://localhost:8080/",
          "height": 36
        },
        "id": "UVX5BHsy8KcK",
        "outputId": "a12a20b2-0f29-4741-d645-135ba75b13a9"
      },
      "execution_count": 25,
      "outputs": [
        {
          "output_type": "execute_result",
          "data": {
            "application/vnd.google.colaboratory.intrinsic+json": {
              "type": "string"
            },
            "text/plain": [
              "'CIMAT'"
            ]
          },
          "metadata": {},
          "execution_count": 25
        }
      ]
    },
    {
      "cell_type": "code",
      "source": [
        "\"a\"*3"
      ],
      "metadata": {
        "colab": {
          "base_uri": "https://localhost:8080/",
          "height": 36
        },
        "id": "_3PL7EdA8T7m",
        "outputId": "61b437b4-0e6a-422a-e040-b80f05a43d0f"
      },
      "execution_count": 23,
      "outputs": [
        {
          "output_type": "execute_result",
          "data": {
            "application/vnd.google.colaboratory.intrinsic+json": {
              "type": "string"
            },
            "text/plain": [
              "'aaa'"
            ]
          },
          "metadata": {},
          "execution_count": 23
        }
      ]
    },
    {
      "cell_type": "code",
      "source": [
        "\"a\"/3"
      ],
      "metadata": {
        "colab": {
          "base_uri": "https://localhost:8080/",
          "height": 214
        },
        "id": "L13fBxHX8USx",
        "outputId": "0be38cb5-6346-4714-8422-140ad228e6f1"
      },
      "execution_count": 24,
      "outputs": [
        {
          "output_type": "error",
          "ename": "TypeError",
          "evalue": "ignored",
          "traceback": [
            "\u001b[0;31m---------------------------------------------------------------------------\u001b[0m",
            "\u001b[0;31mTypeError\u001b[0m                                 Traceback (most recent call last)",
            "\u001b[0;32m<ipython-input-24-e838109ff914>\u001b[0m in \u001b[0;36m<module>\u001b[0;34m()\u001b[0m\n\u001b[0;32m----> 1\u001b[0;31m \u001b[0;34m\"a\"\u001b[0m\u001b[0;34m/\u001b[0m\u001b[0;36m3\u001b[0m\u001b[0;34m\u001b[0m\u001b[0;34m\u001b[0m\u001b[0m\n\u001b[0m",
            "\u001b[0;31mTypeError\u001b[0m: unsupported operand type(s) for /: 'str' and 'int'"
          ]
        }
      ]
    },
    {
      "cell_type": "code",
      "source": [
        "len(e)"
      ],
      "metadata": {
        "colab": {
          "base_uri": "https://localhost:8080/"
        },
        "id": "2bus5Bi59jJI",
        "outputId": "c26486b4-b300-4436-c62a-92c406400898"
      },
      "execution_count": 35,
      "outputs": [
        {
          "output_type": "execute_result",
          "data": {
            "text/plain": [
              "12"
            ]
          },
          "metadata": {},
          "execution_count": 35
        }
      ]
    },
    {
      "cell_type": "markdown",
      "source": [
        "### Métodos"
      ],
      "metadata": {
        "id": "AWwJIvXy9fZ4"
      }
    },
    {
      "cell_type": "code",
      "source": [
        "e.replace(\"e\", \"E\")"
      ],
      "metadata": {
        "colab": {
          "base_uri": "https://localhost:8080/",
          "height": 36
        },
        "id": "ZqVKcDfO8eR8",
        "outputId": "7d4e4861-3728-426c-a92a-ff091c706af6"
      },
      "execution_count": 29,
      "outputs": [
        {
          "output_type": "execute_result",
          "data": {
            "application/vnd.google.colaboratory.intrinsic+json": {
              "type": "string"
            },
            "text/plain": [
              "'HEllo world!'"
            ]
          },
          "metadata": {},
          "execution_count": 29
        }
      ]
    },
    {
      "cell_type": "code",
      "source": [
        "e.upper()"
      ],
      "metadata": {
        "colab": {
          "base_uri": "https://localhost:8080/",
          "height": 36
        },
        "id": "F-t6a9Lw8pv4",
        "outputId": "5188bf9e-cbe7-493c-d707-22835078247c"
      },
      "execution_count": 30,
      "outputs": [
        {
          "output_type": "execute_result",
          "data": {
            "application/vnd.google.colaboratory.intrinsic+json": {
              "type": "string"
            },
            "text/plain": [
              "'HELLO WORLD!'"
            ]
          },
          "metadata": {},
          "execution_count": 30
        }
      ]
    },
    {
      "cell_type": "code",
      "source": [
        "e.count(\"o\")"
      ],
      "metadata": {
        "colab": {
          "base_uri": "https://localhost:8080/"
        },
        "id": "6DqV8M2W9mqH",
        "outputId": "8b929f9d-05d4-4887-df3e-0ef9c3c3e756"
      },
      "execution_count": 36,
      "outputs": [
        {
          "output_type": "execute_result",
          "data": {
            "text/plain": [
              "2"
            ]
          },
          "metadata": {},
          "execution_count": 36
        }
      ]
    },
    {
      "cell_type": "code",
      "source": [
        "idioma = \"inglés\"\n",
        "print(\"El idioma {} es muy útil.\".format(idioma))"
      ],
      "metadata": {
        "colab": {
          "base_uri": "https://localhost:8080/"
        },
        "id": "QeYuBJG18tu8",
        "outputId": "0efce9e4-2420-453e-e0ce-44974287a7ad"
      },
      "execution_count": 32,
      "outputs": [
        {
          "output_type": "stream",
          "name": "stdout",
          "text": [
            "El idioma inglés es muy útil\n"
          ]
        }
      ]
    },
    {
      "cell_type": "code",
      "source": [
        "print(f\"El idioma {idioma} es muy útil.\")"
      ],
      "metadata": {
        "colab": {
          "base_uri": "https://localhost:8080/"
        },
        "id": "3gL4B_BW9A9W",
        "outputId": "436ce980-4640-4afa-b359-69fff3682441"
      },
      "execution_count": 33,
      "outputs": [
        {
          "output_type": "stream",
          "name": "stdout",
          "text": [
            "El idioma inglés es muy útil.\n"
          ]
        }
      ]
    },
    {
      "cell_type": "code",
      "source": [
        ""
      ],
      "metadata": {
        "id": "vJyGUUDv9lSM"
      },
      "execution_count": null,
      "outputs": []
    },
    {
      "cell_type": "markdown",
      "source": [
        "## Boolean "
      ],
      "metadata": {
        "id": "HMddnIXL7PkB"
      }
    },
    {
      "cell_type": "code",
      "source": [
        "x = True # bool\n",
        "y = False"
      ],
      "metadata": {
        "id": "md9_C55K7OqG"
      },
      "execution_count": 22,
      "outputs": []
    },
    {
      "cell_type": "markdown",
      "source": [
        "# Condicionales"
      ],
      "metadata": {
        "id": "KNqxC4nB8H8w"
      }
    },
    {
      "cell_type": "code",
      "source": [
        "x = 10\n",
        "print(x==11)"
      ],
      "metadata": {
        "colab": {
          "base_uri": "https://localhost:8080/"
        },
        "id": "liHRWb7g_tWR",
        "outputId": "96ed5b34-6acc-48bc-e681-4ab66d4d7480"
      },
      "execution_count": 48,
      "outputs": [
        {
          "output_type": "stream",
          "name": "stdout",
          "text": [
            "False\n"
          ]
        }
      ]
    },
    {
      "cell_type": "code",
      "source": [
        "y = True\n",
        "x = False\n",
        "\n",
        "print(y)\n",
        "print(not y)\n",
        "print(y&y)\n",
        "print(y&x)\n",
        "print(y|x)\n",
        "print(y|y)"
      ],
      "metadata": {
        "colab": {
          "base_uri": "https://localhost:8080/"
        },
        "id": "lwy5yR9P_yNE",
        "outputId": "ec6f0ea9-86a6-4b65-9a4c-fa1ff092a514"
      },
      "execution_count": 65,
      "outputs": [
        {
          "output_type": "stream",
          "name": "stdout",
          "text": [
            "True\n",
            "False\n",
            "True\n",
            "False\n",
            "True\n",
            "True\n"
          ]
        }
      ]
    },
    {
      "cell_type": "code",
      "source": [
        "# if-statements\n",
        "edad = 19\n",
        "if edad>18:\n",
        "  print(\"Puede tomar alcohol!!!\")"
      ],
      "metadata": {
        "colab": {
          "base_uri": "https://localhost:8080/"
        },
        "id": "j1P5A2sV97uT",
        "outputId": "7bc494d6-2576-4ef3-f3e9-eadfe2b7b0c6"
      },
      "execution_count": 39,
      "outputs": [
        {
          "output_type": "stream",
          "name": "stdout",
          "text": [
            "Puede tomar alcohol!!!\n"
          ]
        }
      ]
    },
    {
      "cell_type": "code",
      "source": [
        "# if/else -statements\n",
        "calificacion = 6 \n",
        "if calificacion>7:\n",
        "  print(\"Aprobaste.\")\n",
        "else:\n",
        "  print(\"Reprobaste\")"
      ],
      "metadata": {
        "colab": {
          "base_uri": "https://localhost:8080/"
        },
        "id": "n-dS2Y3L-PHZ",
        "outputId": "cef966a1-80da-4462-929d-ba929e0df884"
      },
      "execution_count": 44,
      "outputs": [
        {
          "output_type": "stream",
          "name": "stdout",
          "text": [
            "Reprobaste\n"
          ]
        }
      ]
    },
    {
      "cell_type": "code",
      "source": [
        "# if/elif/else\n",
        "pais = \"México\"\n",
        "if pais==\"México\":\n",
        "  print(\"Eres mexinano.\")\n",
        "elif pais==\"China\":\n",
        "  print(\"Eres chino\")\n",
        "else:\n",
        "  print(\"Nacionalidad desconocida.\")  \n"
      ],
      "metadata": {
        "colab": {
          "base_uri": "https://localhost:8080/"
        },
        "id": "mxNvvTeU-mFC",
        "outputId": "544c7eec-3fb6-402e-9a58-989f92a8d1b1"
      },
      "execution_count": 45,
      "outputs": [
        {
          "output_type": "stream",
          "name": "stdout",
          "text": [
            "Eres mexinano.\n"
          ]
        }
      ]
    },
    {
      "cell_type": "code",
      "source": [
        "i = 1\n",
        "while i<5:\n",
        "  print(i)\n",
        "  i +=1 "
      ],
      "metadata": {
        "colab": {
          "base_uri": "https://localhost:8080/"
        },
        "id": "_xNJHa-u_fYv",
        "outputId": "a36fdf50-5969-4a6e-a590-3f43abd54cc9"
      },
      "execution_count": 47,
      "outputs": [
        {
          "output_type": "stream",
          "name": "stdout",
          "text": [
            "1\n",
            "2\n",
            "3\n",
            "4\n"
          ]
        }
      ]
    },
    {
      "cell_type": "markdown",
      "source": [
        "# Funciones Basicas"
      ],
      "metadata": {
        "id": "PWYoJyj6AgAo"
      }
    },
    {
      "cell_type": "code",
      "source": [
        "def complete_name(name: str, last_name:str) -> str:\n",
        "  \"\"\"\n",
        "  Esta función te crea tu nombre completo\n",
        "  \"\"\"\n",
        "  return f\"Tu nombre completo es {name} {last_name}\"\n",
        "\n",
        "# ejemplo:\n",
        "complete_name(\"Andres\", \"Lopez\")"
      ],
      "metadata": {
        "colab": {
          "base_uri": "https://localhost:8080/",
          "height": 36
        },
        "id": "QYUAndVWAieJ",
        "outputId": "7063c418-3f48-4ffe-ecc3-e4ef5062cae2"
      },
      "execution_count": 77,
      "outputs": [
        {
          "output_type": "execute_result",
          "data": {
            "application/vnd.google.colaboratory.intrinsic+json": {
              "type": "string"
            },
            "text/plain": [
              "'Tu nombre completo es Andres Lopez'"
            ]
          },
          "metadata": {},
          "execution_count": 77
        }
      ]
    },
    {
      "cell_type": "code",
      "source": [
        "def hours_to_minutes(hour):\n",
        "  return hour*60\n",
        "\n",
        "# ejemplo:\n",
        "hours_to_minutes(3)"
      ],
      "metadata": {
        "colab": {
          "base_uri": "https://localhost:8080/"
        },
        "id": "ZUPQwQOyA2_g",
        "outputId": "20045190-2533-4c5e-8799-5779d78982d3"
      },
      "execution_count": 74,
      "outputs": [
        {
          "output_type": "execute_result",
          "data": {
            "text/plain": [
              "180"
            ]
          },
          "metadata": {},
          "execution_count": 74
        }
      ]
    },
    {
      "cell_type": "code",
      "source": [
        "# Ejercicio, qué se espera de la siguiente función:\n",
        "\n",
        "def primera_letra(palabra):\n",
        "  palabra[2]\n",
        "\n",
        "primera_letra(\"palabra\")"
      ],
      "metadata": {
        "id": "VQB4SKn6BdXu"
      },
      "execution_count": 76,
      "outputs": []
    },
    {
      "cell_type": "markdown",
      "source": [
        "# Estructuras de datos\n",
        "\n",
        "- Diccionarios: Key/value, son mutables\n",
        "- Tuplas: In\n",
        "- Conjuntos:"
      ],
      "metadata": {
        "id": "P3Fue3R7E0Ux"
      }
    },
    {
      "cell_type": "markdown",
      "source": [
        "## Listas\n",
        "Son mutables, diferentes tipos de valores."
      ],
      "metadata": {
        "id": "GjtizpO_FiVa"
      }
    },
    {
      "cell_type": "code",
      "source": [
        "l1 = [12, 3, 24234,324]"
      ],
      "metadata": {
        "id": "A3VWPvsTE8WW"
      },
      "execution_count": 103,
      "outputs": []
    },
    {
      "cell_type": "code",
      "source": [
        "l2 = [\"ads\", 23, 123.4, True]"
      ],
      "metadata": {
        "id": "1mwh43VoFUSa"
      },
      "execution_count": 101,
      "outputs": []
    },
    {
      "cell_type": "code",
      "source": [
        "l3 = [l1,l2]"
      ],
      "metadata": {
        "id": "MVElOp1MFXBb"
      },
      "execution_count": 104,
      "outputs": []
    },
    {
      "cell_type": "markdown",
      "source": [
        "### Ejercicios para clase:\n",
        "- Indexación\n",
        "- Acceder a los elementos de una lista\n",
        "- Agregar elementos, eliminar.\n",
        "- Contar número de elementos.\n",
        "- Copiar una lista (cuidado!!!): id"
      ],
      "metadata": {
        "id": "GaNZgS62HtRt"
      }
    },
    {
      "cell_type": "markdown",
      "source": [
        "## Diccionarios\n",
        "Key/valur, son mutables"
      ],
      "metadata": {
        "id": "XrRHcmGaFoQB"
      }
    },
    {
      "cell_type": "code",
      "source": [
        "d1 = {\"Maria\":23, \"Luis\":28}"
      ],
      "metadata": {
        "id": "gz_x6mFVFsyg"
      },
      "execution_count": 111,
      "outputs": []
    },
    {
      "cell_type": "code",
      "source": [
        "d2 = {\"punto_1\":[12,3], \n",
        "      \"punto_2\":[23,34]}"
      ],
      "metadata": {
        "id": "idPjCbbPF206"
      },
      "execution_count": 105,
      "outputs": []
    },
    {
      "cell_type": "code",
      "source": [
        "d3 = {1:True,\n",
        "      \"hej\": 23}"
      ],
      "metadata": {
        "id": "dY8BJPNGF--k"
      },
      "execution_count": 106,
      "outputs": []
    },
    {
      "cell_type": "code",
      "source": [
        "d3[\"hej\"]"
      ],
      "metadata": {
        "colab": {
          "base_uri": "https://localhost:8080/"
        },
        "id": "2XffxExIGD51",
        "outputId": "8e86927b-689b-42e4-ad68-43156f59b42c"
      },
      "execution_count": 109,
      "outputs": [
        {
          "output_type": "execute_result",
          "data": {
            "text/plain": [
              "23"
            ]
          },
          "metadata": {},
          "execution_count": 109
        }
      ]
    },
    {
      "cell_type": "code",
      "source": [
        "d1.keys()"
      ],
      "metadata": {
        "colab": {
          "base_uri": "https://localhost:8080/"
        },
        "id": "v4iNcsKMGI58",
        "outputId": "da95073c-00fb-434e-e417-06dbb5e7adf7"
      },
      "execution_count": 113,
      "outputs": [
        {
          "output_type": "execute_result",
          "data": {
            "text/plain": [
              "dict_keys(['Maria', 'Luis'])"
            ]
          },
          "metadata": {},
          "execution_count": 113
        }
      ]
    },
    {
      "cell_type": "code",
      "source": [
        "d2.values()"
      ],
      "metadata": {
        "colab": {
          "base_uri": "https://localhost:8080/"
        },
        "id": "P4fpQoOsGMOL",
        "outputId": "70376159-1157-4bb9-ac4b-3f53e3b3c1d3"
      },
      "execution_count": 112,
      "outputs": [
        {
          "output_type": "execute_result",
          "data": {
            "text/plain": [
              "dict_values([[12, 3], [23, 34]])"
            ]
          },
          "metadata": {},
          "execution_count": 112
        }
      ]
    },
    {
      "cell_type": "markdown",
      "source": [
        "## Tuplas\n",
        "Son parecidas a las listas, con la diferencia que sson inmutables."
      ],
      "metadata": {
        "id": "M-Mb_X1DGWU4"
      }
    },
    {
      "cell_type": "code",
      "source": [
        "t1 = (1, 24, 56)   \n"
      ],
      "metadata": {
        "id": "xER_X5JLGdpE"
      },
      "execution_count": 114,
      "outputs": []
    },
    {
      "cell_type": "code",
      "source": [
        "t2 = (1, 1.62, '12', [1, 2 , 3])"
      ],
      "metadata": {
        "id": "0JXwrjYRGhtO"
      },
      "execution_count": 116,
      "outputs": []
    },
    {
      "cell_type": "code",
      "source": [
        "t3 = (t1, t2)"
      ],
      "metadata": {
        "id": "4NmJp4jRGmUY"
      },
      "execution_count": 117,
      "outputs": []
    },
    {
      "cell_type": "markdown",
      "source": [
        "## Conjuntos\n",
        "Son mutables"
      ],
      "metadata": {
        "id": "U39RVhGGGuqq"
      }
    },
    {
      "cell_type": "code",
      "source": [
        "s1 = {32, 3, 1, 86, 6, 8}\n",
        "s2 = {8, 6, 21, 7, 26}"
      ],
      "metadata": {
        "id": "YJWNRd5fGyNS"
      },
      "execution_count": 118,
      "outputs": []
    },
    {
      "cell_type": "code",
      "source": [
        "s1.union(s2) "
      ],
      "metadata": {
        "colab": {
          "base_uri": "https://localhost:8080/"
        },
        "id": "Hcupct8IG3Ma",
        "outputId": "bc656728-9560-45ee-cf1d-9ae695689a57"
      },
      "execution_count": 119,
      "outputs": [
        {
          "output_type": "execute_result",
          "data": {
            "text/plain": [
              "{1, 3, 6, 7, 8, 21, 26, 32, 86}"
            ]
          },
          "metadata": {},
          "execution_count": 119
        }
      ]
    },
    {
      "cell_type": "code",
      "source": [
        "s1.intersection(s2)"
      ],
      "metadata": {
        "colab": {
          "base_uri": "https://localhost:8080/"
        },
        "id": "p7kRl0T8G5do",
        "outputId": "60d03755-7943-44c1-86d0-d2d6f04745ac"
      },
      "execution_count": 120,
      "outputs": [
        {
          "output_type": "execute_result",
          "data": {
            "text/plain": [
              "{6, 8}"
            ]
          },
          "metadata": {},
          "execution_count": 120
        }
      ]
    },
    {
      "cell_type": "code",
      "source": [
        "list_duplicada = [1, 2, 3,4, 1,3, 4,2,4,5,7]\n",
        "s3 = set(list_duplicada)\n",
        "s3"
      ],
      "metadata": {
        "colab": {
          "base_uri": "https://localhost:8080/"
        },
        "id": "4xVWT3opG9wr",
        "outputId": "f308d649-db7a-44c3-efa2-c1f965070f14"
      },
      "execution_count": 123,
      "outputs": [
        {
          "output_type": "execute_result",
          "data": {
            "text/plain": [
              "{1, 2, 3, 4, 5, 7}"
            ]
          },
          "metadata": {},
          "execution_count": 123
        }
      ]
    },
    {
      "cell_type": "markdown",
      "source": [
        "# For loops\n"
      ],
      "metadata": {
        "id": "64oSs2wfAiDL"
      }
    },
    {
      "cell_type": "code",
      "source": [
        "for num in [1,2,3,4]:\n",
        "  print(num**2)"
      ],
      "metadata": {
        "colab": {
          "base_uri": "https://localhost:8080/"
        },
        "id": "s0qBpDqEIbEV",
        "outputId": "de667e9c-d7a7-4981-e5dc-18f3cdb12775"
      },
      "execution_count": 127,
      "outputs": [
        {
          "output_type": "stream",
          "name": "stdout",
          "text": [
            "1\n",
            "4\n",
            "9\n",
            "16\n"
          ]
        }
      ]
    },
    {
      "cell_type": "code",
      "source": [
        "for num in range(4):\n",
        "  print(num**2)"
      ],
      "metadata": {
        "colab": {
          "base_uri": "https://localhost:8080/"
        },
        "id": "kQGEkb8jIibn",
        "outputId": "cd3f999a-3824-419d-f5f8-23fc8cd9a749"
      },
      "execution_count": 129,
      "outputs": [
        {
          "output_type": "stream",
          "name": "stdout",
          "text": [
            "0\n",
            "1\n",
            "4\n",
            "9\n"
          ]
        }
      ]
    },
    {
      "cell_type": "code",
      "source": [
        "for letra in \"Abcdefghi\":\n",
        "  print(letra)"
      ],
      "metadata": {
        "colab": {
          "base_uri": "https://localhost:8080/"
        },
        "id": "nIXBoslkIpri",
        "outputId": "d2b85883-33a8-4492-ac9b-908c618cd697"
      },
      "execution_count": 130,
      "outputs": [
        {
          "output_type": "stream",
          "name": "stdout",
          "text": [
            "A\n",
            "b\n",
            "c\n",
            "d\n",
            "e\n",
            "f\n",
            "g\n",
            "h\n",
            "i\n"
          ]
        }
      ]
    },
    {
      "cell_type": "code",
      "source": [
        "i = 0\n",
        "for _ in range(12):\n",
        "  i += 1\n",
        "print(i)  "
      ],
      "metadata": {
        "colab": {
          "base_uri": "https://localhost:8080/"
        },
        "id": "FP-R0z0UI0ZD",
        "outputId": "82e14c04-9faa-41db-a739-880221ea98e2"
      },
      "execution_count": 139,
      "outputs": [
        {
          "output_type": "stream",
          "name": "stdout",
          "text": [
            "12\n"
          ]
        }
      ]
    },
    {
      "cell_type": "code",
      "source": [
        "l1 = [1, 2, 4, 5]\n",
        "l2 = [i**2 for i in l1]\n",
        "print(l2)"
      ],
      "metadata": {
        "colab": {
          "base_uri": "https://localhost:8080/"
        },
        "id": "Pq7_gQ4hJWFB",
        "outputId": "45b36c7e-1053-45e1-882a-61c33177f95b"
      },
      "execution_count": 140,
      "outputs": [
        {
          "output_type": "stream",
          "name": "stdout",
          "text": [
            "[1, 4, 16, 25]\n"
          ]
        }
      ]
    },
    {
      "cell_type": "markdown",
      "source": [
        "# Librerias"
      ],
      "metadata": {
        "id": "Sc9T6BakCBVn"
      }
    },
    {
      "cell_type": "code",
      "source": [
        "%%file mis_funciones.py\n",
        "def primera_letra(palabra):\n",
        "  return palabra[2]"
      ],
      "metadata": {
        "id": "DMRYMYnnEot1"
      },
      "execution_count": null,
      "outputs": []
    },
    {
      "cell_type": "code",
      "source": [
        "import pandas as pd # \n",
        "import numpy as np\n",
        "import mis_funciones"
      ],
      "metadata": {
        "id": "u_ACXr9dCM1d"
      },
      "execution_count": 98,
      "outputs": []
    },
    {
      "cell_type": "code",
      "source": [
        "primera_letra(\"enique\")"
      ],
      "metadata": {
        "colab": {
          "base_uri": "https://localhost:8080/",
          "height": 36
        },
        "id": "I3TFY6EUEE5a",
        "outputId": "5092f783-4388-4819-b409-7218cec8e3d4"
      },
      "execution_count": 99,
      "outputs": [
        {
          "output_type": "execute_result",
          "data": {
            "application/vnd.google.colaboratory.intrinsic+json": {
              "type": "string"
            },
            "text/plain": [
              "'i'"
            ]
          },
          "metadata": {},
          "execution_count": 99
        }
      ]
    },
    {
      "cell_type": "markdown",
      "source": [
        "# Referencias utiles\n",
        "- Python Data Science Hadnbook, Jake Vanderplas.\n",
        "- Introduction to Machine Learning with Python.\n",
        "\n",
        "# Temas extra\n",
        "- https://github.com/Python-Crash-Course/Python101\n",
        "- Numpy: operaciones con vectores\n",
        "- [Pandas](https://pandas.pydata.org/Pandas_Cheat_Sheet.pdf), https://www.datacamp.com/community/blog/python-pandas-cheat-sheet\n",
        "- Librerias para visualización: Matplotlib, Seaborn.\n",
        "- Scope, Closures, Decoradores.\n",
        "- Python orientado a objetos. \n",
        "\n",
        "# Cursos sugeridos:\n",
        "- Tracks: Data Scientist with python and Machine Learning Scientist, DataCamp.\n",
        "- Pahts: Data Analyst and Machine Learning Engineer, Platzi.\n",
        "- Micromaster of Statistics and Data Science 40, Edx.\n",
        "- Programa Especializado - Ciencias de los Datos Aplicada con Python, el primer curso."
      ],
      "metadata": {
        "id": "BOEw7qJQJsEF"
      }
    }
  ]
}